{
 "cells": [
  {
   "cell_type": "markdown",
   "metadata": {},
   "source": [
    "About pandas.DataFrame.iloc\n"
   ]
  },
  {
   "cell_type": "code",
   "execution_count": 151,
   "metadata": {},
   "outputs": [
    {
     "name": "stdout",
     "output_type": "stream",
     "text": [
      "      Name  Age Gender\n",
      "0    Alice   25      F\n",
      "1      Bob   30      M\n",
      "2  Charlie   35      M\n",
      "3    David   40      M\n",
      "4      Eve   45      F\n",
      "5    Frank   24      M\n",
      "6    Grace   29      F \n",
      "\n",
      "Name      Alice\n",
      "Age          25\n",
      "Gender        F\n",
      "Name: 0, dtype: object \n",
      "\n",
      "35 \n",
      "\n",
      "0      Alice\n",
      "1        Bob\n",
      "2    Charlie\n",
      "3      David\n",
      "4        Eve\n",
      "5      Frank\n",
      "6      Grace\n",
      "Name: Name, dtype: object \n",
      "\n",
      "      Name  Age Gender\n",
      "0    Alice   25      F\n",
      "2  Charlie   35      M\n",
      "4      Eve   45      F \n",
      "\n"
     ]
    }
   ],
   "source": [
    "import pandas as pd\n",
    "\n",
    "# Create a DataFrame with some data\n",
    "data = pd.DataFrame(\n",
    "    {\n",
    "        \"Name\": [\n",
    "            \"Alice\",\n",
    "            \"Bob\",\n",
    "            \"Charlie\",\n",
    "            \"David\",\n",
    "            \"Eve\",\n",
    "            \"Frank\",\n",
    "            \"Grace\",\n",
    "        ],\n",
    "        \"Age\": [\n",
    "            25,\n",
    "            30,\n",
    "            35,\n",
    "            40,\n",
    "            45,\n",
    "            24,\n",
    "            29,\n",
    "        ],\n",
    "        \"Gender\": [\n",
    "            \"F\",\n",
    "            \"M\",\n",
    "            \"M\",\n",
    "            \"M\",\n",
    "            \"F\",\n",
    "            \"M\",\n",
    "            \"F\",\n",
    "        ],\n",
    "    }\n",
    ")\n",
    "\n",
    "\n",
    "# Print the DataFrame\n",
    "print(data, \"\\n\")\n",
    "\n",
    "# Select the first row using iloc\n",
    "print(data.iloc[0], \"\\n\")\n",
    "\n",
    "# Select the value at the third row and second column using iloc\n",
    "print(data.iloc[2, 1], \"\\n\")\n",
    "\n",
    "# Select all the values in the first column using iloc\n",
    "print(data.iloc[:, 0], \"\\n\")\n",
    "\n",
    "# Select the rows with indices 0, 2, and 4 using iloc\n",
    "# print(data.iloc[[0, 2, 4], :])\n",
    "print(data.iloc[[0, 2, 4]], \"\\n\")"
   ]
  },
  {
   "cell_type": "code",
   "execution_count": 152,
   "metadata": {},
   "outputs": [
    {
     "name": "stdout",
     "output_type": "stream",
     "text": [
      "<class 'numpy.ndarray'> \n",
      " [83 53 70 45 44 39 22 80 10  0 18 30 73 33 90  4 76 77 12 31 55 88 26 42\n",
      " 69 15 40 96  9 72 11 47 85 28 93  5 66 65 35 16 49 34  7 95 27 19 81 25\n",
      " 62 13 24  3 17 38  8 78  6 64 36 89 56 99 54 43 50 67 46 68 61 97 79 41\n",
      " 58 48 98 57 75 32 94 59 63 84 37 29  1 52 21  2 23 87 91 74 86 82 20 60\n",
      " 71 14 92 51]\n",
      "20 \n",
      " [83 53 70 45 44 39 22 80 10  0 18 30 73 33 90  4 76 77 12 31]\n",
      "80 \n",
      " [55 88 26 42 69 15 40 96  9 72 11 47 85 28 93  5 66 65 35 16 49 34  7 95\n",
      " 27 19 81 25 62 13 24  3 17 38  8 78  6 64 36 89 56 99 54 43 50 67 46 68\n",
      " 61 97 79 41 58 48 98 57 75 32 94 59 63 84 37 29  1 52 21  2 23 87 91 74\n",
      " 86 82 20 60 71 14 92 51]\n"
     ]
    }
   ],
   "source": [
    "import numpy as np\n",
    "\n",
    "np.random.seed(42)\n",
    "shuffled_indices = np.random.permutation(100)\n",
    "test_set_size = 20\n",
    "test_indices = shuffled_indices[:test_set_size]\n",
    "train_indices = shuffled_indices[test_set_size:]\n",
    "\n",
    "print(type(shuffled_indices), \"\\n\", shuffled_indices)\n",
    "print(len(test_indices), \"\\n\", test_indices)\n",
    "print(len(train_indices), \"\\n\", train_indices)"
   ]
  },
  {
   "cell_type": "code",
   "execution_count": 153,
   "metadata": {},
   "outputs": [
    {
     "name": "stdout",
     "output_type": "stream",
     "text": [
      "3757500357\n",
      "3422267504\n",
      "4294967296\n"
     ]
    }
   ],
   "source": [
    "from zlib import crc32\n",
    "\n",
    "print(crc32(np.int64(22)))\n",
    "print(crc32(np.int64(44)))\n",
    "print(2**32)"
   ]
  },
  {
   "cell_type": "code",
   "execution_count": 154,
   "metadata": {},
   "outputs": [
    {
     "name": "stdout",
     "output_type": "stream",
     "text": [
      "<class 'pandas.core.frame.DataFrame'> \n",
      "       Name  Age Gender\n",
      "0    Alice   25      F\n",
      "1      Bob   30      M\n",
      "2  Charlie   35      M\n",
      "3    David   40      M\n",
      "4      Eve   45      F\n",
      "5    Frank   24      M\n",
      "6    Grace   29      F\n"
     ]
    }
   ],
   "source": [
    "print(type(data), \"\\n\", data)"
   ]
  },
  {
   "cell_type": "code",
   "execution_count": 155,
   "metadata": {},
   "outputs": [
    {
     "data": {
      "text/html": [
       "<div>\n",
       "<style scoped>\n",
       "    .dataframe tbody tr th:only-of-type {\n",
       "        vertical-align: middle;\n",
       "    }\n",
       "\n",
       "    .dataframe tbody tr th {\n",
       "        vertical-align: top;\n",
       "    }\n",
       "\n",
       "    .dataframe thead th {\n",
       "        text-align: right;\n",
       "    }\n",
       "</style>\n",
       "<table border=\"1\" class=\"dataframe\">\n",
       "  <thead>\n",
       "    <tr style=\"text-align: right;\">\n",
       "      <th></th>\n",
       "      <th>index</th>\n",
       "      <th>Name</th>\n",
       "      <th>Age</th>\n",
       "      <th>Gender</th>\n",
       "    </tr>\n",
       "  </thead>\n",
       "  <tbody>\n",
       "    <tr>\n",
       "      <th>0</th>\n",
       "      <td>0</td>\n",
       "      <td>Alice</td>\n",
       "      <td>25</td>\n",
       "      <td>F</td>\n",
       "    </tr>\n",
       "    <tr>\n",
       "      <th>1</th>\n",
       "      <td>1</td>\n",
       "      <td>Bob</td>\n",
       "      <td>30</td>\n",
       "      <td>M</td>\n",
       "    </tr>\n",
       "    <tr>\n",
       "      <th>2</th>\n",
       "      <td>2</td>\n",
       "      <td>Charlie</td>\n",
       "      <td>35</td>\n",
       "      <td>M</td>\n",
       "    </tr>\n",
       "    <tr>\n",
       "      <th>3</th>\n",
       "      <td>3</td>\n",
       "      <td>David</td>\n",
       "      <td>40</td>\n",
       "      <td>M</td>\n",
       "    </tr>\n",
       "    <tr>\n",
       "      <th>4</th>\n",
       "      <td>4</td>\n",
       "      <td>Eve</td>\n",
       "      <td>45</td>\n",
       "      <td>F</td>\n",
       "    </tr>\n",
       "    <tr>\n",
       "      <th>5</th>\n",
       "      <td>5</td>\n",
       "      <td>Frank</td>\n",
       "      <td>24</td>\n",
       "      <td>M</td>\n",
       "    </tr>\n",
       "    <tr>\n",
       "      <th>6</th>\n",
       "      <td>6</td>\n",
       "      <td>Grace</td>\n",
       "      <td>29</td>\n",
       "      <td>F</td>\n",
       "    </tr>\n",
       "  </tbody>\n",
       "</table>\n",
       "</div>"
      ],
      "text/plain": [
       "   index     Name  Age Gender\n",
       "0      0    Alice   25      F\n",
       "1      1      Bob   30      M\n",
       "2      2  Charlie   35      M\n",
       "3      3    David   40      M\n",
       "4      4      Eve   45      F\n",
       "5      5    Frank   24      M\n",
       "6      6    Grace   29      F"
      ]
     },
     "execution_count": 155,
     "metadata": {},
     "output_type": "execute_result"
    }
   ],
   "source": [
    "data_with_id = data.reset_index()\n",
    "data_with_id"
   ]
  },
  {
   "cell_type": "code",
   "execution_count": 156,
   "metadata": {},
   "outputs": [],
   "source": [
    "def is_id_in_test_set(identifier, test_ratio):\n",
    "    # crc32 return a number that is within the range of 0 to 2**32-1\n",
    "    return crc32(np.int64(identifier)) < test_ratio * 2**32\n",
    "\n",
    "\n",
    "def split_data_with_id_hash(data, test_ratio, id_column):\n",
    "    ids = data[id_column]\n",
    "    print(type(ids), \"\\n\", ids)\n",
    "    in_test_set = ids.apply(lambda id_: is_id_in_test_set(id_, test_ratio))\n",
    "    print(type(in_test_set), \"\\n\", in_test_set)\n",
    "    return data.loc[~in_test_set], data.loc[in_test_set]"
   ]
  },
  {
   "cell_type": "code",
   "execution_count": 157,
   "metadata": {},
   "outputs": [
    {
     "name": "stdout",
     "output_type": "stream",
     "text": [
      "<class 'pandas.core.series.Series'> \n",
      " 0    0\n",
      "1    1\n",
      "2    2\n",
      "3    3\n",
      "4    4\n",
      "5    5\n",
      "6    6\n",
      "Name: index, dtype: int64\n",
      "<class 'pandas.core.series.Series'> \n",
      " 0     True\n",
      "1    False\n",
      "2     True\n",
      "3    False\n",
      "4    False\n",
      "5     True\n",
      "6    False\n",
      "Name: index, dtype: bool\n",
      "   index   Name  Age Gender\n",
      "1      1    Bob   30      M\n",
      "3      3  David   40      M\n",
      "4      4    Eve   45      F\n",
      "6      6  Grace   29      F\n",
      "   index     Name  Age Gender\n",
      "0      0    Alice   25      F\n",
      "2      2  Charlie   35      M\n",
      "5      5    Frank   24      M\n"
     ]
    }
   ],
   "source": [
    "train_set, test_set = split_data_with_id_hash(data_with_id, 0.4, \"index\")\n",
    "print(train_set)\n",
    "print(test_set)"
   ]
  }
 ],
 "metadata": {
  "kernelspec": {
   "display_name": "homl3",
   "language": "python",
   "name": "python3"
  },
  "language_info": {
   "codemirror_mode": {
    "name": "ipython",
    "version": 3
   },
   "file_extension": ".py",
   "mimetype": "text/x-python",
   "name": "python",
   "nbconvert_exporter": "python",
   "pygments_lexer": "ipython3",
   "version": "3.10.13"
  }
 },
 "nbformat": 4,
 "nbformat_minor": 2
}
