{
 "cells": [
  {
   "cell_type": "markdown",
   "metadata": {},
   "source": [
    "About pandas.DataFrame.iloc"
   ]
  },
  {
   "cell_type": "code",
   "execution_count": 2,
   "metadata": {},
   "outputs": [
    {
     "name": "stdout",
     "output_type": "stream",
     "text": [
      "      Name  Age Gender\n",
      "0    Alice   25      F\n",
      "1      Bob   30      M\n",
      "2  Charlie   35      M\n",
      "3    David   40      M\n",
      "4      Eve   45      F\n",
      "Name      Alice\n",
      "Age          25\n",
      "Gender        F\n",
      "Name: 0, dtype: object\n",
      "35\n",
      "0      Alice\n",
      "1        Bob\n",
      "2    Charlie\n",
      "3      David\n",
      "4        Eve\n",
      "Name: Name, dtype: object\n",
      "      Name  Age Gender\n",
      "0    Alice   25      F\n",
      "2  Charlie   35      M\n",
      "4      Eve   45      F\n"
     ]
    }
   ],
   "source": [
    "import pandas as pd\n",
    "\n",
    "# Create a DataFrame with some data\n",
    "data = pd.DataFrame(\n",
    "    {\n",
    "        \"Name\": [\"Alice\", \"Bob\", \"Charlie\", \"David\", \"Eve\"],\n",
    "        \"Age\": [25, 30, 35, 40, 45],\n",
    "        \"Gender\": [\"F\", \"M\", \"M\", \"M\", \"F\"],\n",
    "    }\n",
    ")\n",
    "\n",
    "# Print the DataFrame\n",
    "print(data)\n",
    "\n",
    "# Select the first row using iloc\n",
    "print(data.iloc[0])\n",
    "\n",
    "# Select the value at the third row and second column using iloc\n",
    "print(data.iloc[2, 1])\n",
    "\n",
    "# Select all the values in the first column using iloc\n",
    "print(data.iloc[:, 0])\n",
    "\n",
    "# Select the rows with indices 0, 2, and 4 using iloc\n",
    "# print(data.iloc[[0, 2, 4], :])\n",
    "print(data.iloc[[0, 2, 4]])\n"
   ]
  }
 ],
 "metadata": {
  "kernelspec": {
   "display_name": "homl3",
   "language": "python",
   "name": "python3"
  },
  "language_info": {
   "codemirror_mode": {
    "name": "ipython",
    "version": 3
   },
   "file_extension": ".py",
   "mimetype": "text/x-python",
   "name": "python",
   "nbconvert_exporter": "python",
   "pygments_lexer": "ipython3",
   "version": "3.10.13"
  }
 },
 "nbformat": 4,
 "nbformat_minor": 2
}
